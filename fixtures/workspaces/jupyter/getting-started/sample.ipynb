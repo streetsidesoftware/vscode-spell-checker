{
    "cells": [
        {
            "cell_type": "code",
            "execution_count": 1,
            "metadata": {},
            "outputs": [
                {
                    "name": "stdout",
                    "output_type": "stream",
                    "text": [
                        "Hello World!\n"
                    ]
                }
            ],
            "source": [
                "print(\"Hello World!\")\n",
                "\n",
                "# Check for spellinng errors more text.\n"
            ]
        },
        {
            "cell_type": "markdown",
            "metadata": {},
            "source": [
                "# This is a bit of Markdown\n",
                "\n",
                "Below is some code.\n",
                "\n",
                "Let's have a spelling errror."
            ]
        },
        {
            "cell_type": "markdown",
            "metadata": {},
            "source": [
                "# This is another bit of Markdown\n",
                "\n",
                "It also has sommme errorss.\n"
            ]
        }
    ],
    "metadata": {
        "interpreter": {
            "hash": "aee8b7b246df8f9039afb4144a1f6fd8d2ca17a180786b69acc140d282b71a49"
        },
        "kernelspec": {
            "display_name": "Python 3.9.5 64-bit",
            "name": "python3"
        },
        "language_info": {
            "codemirror_mode": {
                "name": "ipython",
                "version": 3
            },
            "file_extension": ".py",
            "mimetype": "text/x-python",
            "name": "python",
            "nbconvert_exporter": "python",
            "pygments_lexer": "ipython3",
            "version": "3.10.4 (v3.10.4:9d38120e33, Mar 23 2022, 17:29:05) [Clang 13.0.0 (clang-1300.0.29.30)]"
        },
        "orig_nbformat": 4
    },
    "nbformat": 4,
    "nbformat_minor": 2
}
